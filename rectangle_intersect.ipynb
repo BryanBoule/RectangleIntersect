{
 "cells": [
  {
   "cell_type": "markdown",
   "metadata": {},
   "source": [
    "# PART 1 : Rectangle intersect"
   ]
  },
  {
   "cell_type": "markdown",
   "metadata": {},
   "source": [
    "This project aims at computing intersections of two rectangles\n",
    "\n",
    "the final goal is to perform a 3d matching simulation"
   ]
  },
  {
   "cell_type": "markdown",
   "metadata": {},
   "source": [
    "### Import libraries"
   ]
  },
  {
   "cell_type": "code",
   "execution_count": 1,
   "metadata": {},
   "outputs": [],
   "source": [
    "import numpy as np\n",
    "from matplotlib.patches import Rectangle\n",
    "import matplotlib.pyplot as plt"
   ]
  },
  {
   "cell_type": "markdown",
   "metadata": {},
   "source": [
    "### The rectangle and line classes"
   ]
  },
  {
   "cell_type": "code",
   "execution_count": 2,
   "metadata": {},
   "outputs": [],
   "source": [
    "class rectangle(object):\n",
    "    \n",
    "    def __init__(self, length, width, lower_coordinates, angle=0):\n",
    "        self.length = length\n",
    "        self.width = width\n",
    "        self.lower_coordinates = lower_coordinates\n",
    "        self.angle = angle\n",
    "        \n",
    "    def __repr__(self):\n",
    "        return {'length':self.length, 'width':self.width, 'lower_coordinates':self.lower_coordinates, 'angle':self.angle}\n",
    "\n",
    "    def __str__(self):\n",
    "        return 'rectangle(length='+str(self.length)+', width='+str(self.width)+', lower_coordinates='+str(self.lower_coordinates)+', angle='+str(self.angle)+ ')'\n",
    "    \n",
    "    def compute_coordinates(self):\n",
    "\n",
    "        if self.angle == 0 :\n",
    "            self.higher_coordinates = tuple([self.lower_coordinates[i] + j for (i,j) in enumerate([self.length, self.width])])\n",
    "            self.x_low_y_high = tuple([self.lower_coordinates[i] + j for (i,j) in enumerate([0, self.width])])\n",
    "            self.x_high_y_low = tuple([self.lower_coordinates[i] + j for (i,j) in enumerate([self.length, 0])])\n",
    "            coords = [self.lower_coordinates, self.x_low_y_high, self.x_high_y_low, self.higher_coordinates]\n",
    "            return(coords)\n",
    "        else:\n",
    "            self.res = []\n",
    "            self.coordinates_gravity_center = self.gravity_center()\n",
    "            for coor in coords:\n",
    "                self.res.append(tuple([self.coordinates_gravity_center[0]+\\\n",
    "                            (coor[0]-self.coordinates_gravity_center[0])*np.cos(degre*np.pi/180) +\\\n",
    "                            np.sin(degre*np.pi/180)*(self.coordinates_gravity_center[1]-coor[1]),\\\n",
    "                            self.coordinates_gravity_center[1]+\\\n",
    "                            (self.coor[0]-self.coordinates_gravity_center[0])*np.sin(degre*np.pi/180) +\\\n",
    "                            np.cos(degre*np.pi/180)*(-self.coordinates_gravity_center[1]+coor[1])]))\n",
    "            return(self.res)\n",
    "    \n",
    "    def gravity_center(self):\n",
    "        self.coordinates = [(self.compute_coordinates[0][0]+self.compute_coordinates[-1][0])/2,\\\n",
    "                            (self.compute_coordinates[0][1]+self.compute_coordinates[-1][1])/2]\n",
    "        return(tuple(self.coordinates))\n",
    "        \n",
    "#     def rotation_rectangle(self, degre):\n",
    "#         self.coordinates_gravity_center = self.gravity_center()\n",
    "#         self.re = self.coordinates_gravity_center[0]+(self.lower_coordinates[0]-self.coordinates_gravity_center[0])*np.cos(degre*np.pi/180) + np.sin(degre*np.pi/180)*(self.coordinates_gravity_center[1]-self.lower_coordinates[1])\n",
    "#         self.im = self.coordinates_gravity_center[1]+(self.lower_coordinates[0]-self.coordinates_gravity_center[0])*np.sin(degre*np.pi/180) + np.cos(degre*np.pi/180)*(-self.coordinates_gravity_center[1]+self.lower_coordinates[1])\n",
    "#         return((self.re, self.im))\n",
    "    \n",
    "    def draw_manually(self, color):\n",
    "        plt.plot([self.lower_coordinates[0], self.lower_coordinates[0] + self.length],\\\n",
    "                 [self.lower_coordinates[1], self.lower_coordinates[1]],\\\n",
    "                 color = color)\n",
    "        plt.plot([self.lower_coordinates[0] + self.length, self.lower_coordinates[0] + self.length],\\\n",
    "                 [self.lower_coordinates[1], self.lower_coordinates[1] + self.width],\\\n",
    "                 color = color)\n",
    "        plt.plot([self.lower_coordinates[0] + self.length, self.lower_coordinates[0]],\\\n",
    "                 [self.lower_coordinates[1] + self.width, self.lower_coordinates[1] + self.width],\\\n",
    "                 color = color)\n",
    "        plt.plot([self.lower_coordinates[0], self.lower_coordinates[0]],\\\n",
    "                 [self.lower_coordinates[1] + self.width, self.lower_coordinates[1]],\\\n",
    "                 color = color)\n",
    "\n",
    "    def count_points_inside(self, rectangle_2):\n",
    "        self.resu1 = 0\n",
    "        self.resu2 = 0\n",
    "        self.coordinates1 = self.compute_coordinates()\n",
    "        self.coordinates2 = rectangle_2.compute_coordinates()\n",
    "        for i in range(4):           \n",
    "            if ((self.coordinates1[0][0] < self.coordinates2[i][0]) & (self.coordinates1[0][1] < self.coordinates2[i][1])) &\\\n",
    "            ((self.coordinates1[3][0] > self.coordinates2[i][0]) & (self.coordinates1[3][1] > self.coordinates2[i][1])):\n",
    "                self.resu1 += 1\n",
    "            if ((self.coordinates2[0][0] < self.coordinates1[i][0]) & (self.coordinates2[0][1] < self.coordinates1[i][1])) &\\\n",
    "            ((self.coordinates2[3][0] > self.coordinates1[i][0]) & (self.coordinates2[3][1] > self.coordinates1[i][1])):\n",
    "                self.resu2 += 1\n",
    "#         print(f'rectangle 1 has {self.resu1} point inside rect 2\\nrectangle 2 has {self.resu2} point inside rect 1')\n",
    "        return(self.resu1, self.resu2)\n",
    "        \n",
    "    def intersect(self, rectangle_2):\n",
    "        \n",
    "        self.coordinatess1 = self.compute_coordinates()\n",
    "        self.coordinatess2 = rectangle_2.compute_coordinates()\n",
    "        \n",
    "        if self.count_points_inside(rectangle_2)[0] == 0:\n",
    "            self.x = self.coordinatess1\n",
    "            self.coordinatess1 = self.coordinatess2\n",
    "            self.coordinatess2 = self.x\n",
    "            del(self.x)\n",
    "            \n",
    "        if max(self.count_points_inside(rectangle_2)) == 4:\n",
    "            print('no intersection')\n",
    "            \n",
    "        if max(self.count_points_inside(rectangle_2)) == 2:\n",
    "            if self.coordinatess2[1][1] > self.coordinatess1[1][1]:\n",
    "                return((self.coordinatess2[0][0] ,self.coordinatess1[1][1] ),(self.coordinatess2[2][0] ,self.coordinatess1[1][1] ))\n",
    "            \n",
    "            if self.coordinatess2[0][1] < self.coordinatess1[0][1]:\n",
    "                return((self.coordinatess2[0][0] ,self.coordinatess1[0][1] ),(self.coordinatess2[2][0] ,self.coordinatess1[0][1] ))\n",
    "            \n",
    "            if self.coordinatess2[2][0] > self.coordinatess1[2][0]:\n",
    "                return((self.coordinatess1[2][0] ,self.coordinatess2[0][1] ),(self.coordinatess1[2][0] ,self.coordinatess2[1][1] ))\n",
    "            \n",
    "            if self.coordinatess2[0][0] < self.coordinatess1[0][0]:\n",
    "                return((self.coordinatess1[0][0] ,self.coordinatess2[0][1] ),(self.coordinatess1[0][0] ,self.coordinatess2[1][1] ))\n",
    "            \n",
    "        if max(self.count_points_inside(rectangle_2)) == 1:\n",
    "            print('0')\n",
    "            \n",
    "        if max(self.count_points_inside(rectangle_2)) == 0:\n",
    "            \n",
    "            print('no intersection')"
   ]
  },
  {
   "cell_type": "code",
   "execution_count": 3,
   "metadata": {},
   "outputs": [],
   "source": [
    "class line(object):\n",
    "    \n",
    "    def __init__(self, coord1, coord2):\n",
    "        self.coord1 = coord1\n",
    "        self.coord2 = coord2\n",
    "        \n",
    "    def __repr__(self):\n",
    "        return {'coord1':self.coord1, 'coord2':self.coord2}\n",
    "\n",
    "    def __str__(self):\n",
    "        return 'line(coord1='+str(self.coord1)+', coord2='+str(self.coord2)+ ')'\n",
    "    \n",
    "    def eqn_line(self):\n",
    "        \n",
    "        '''\n",
    "        return the cartesian equation of the line float*float : (slope, intersect)\n",
    "        '''\n",
    "        \n",
    "        self.slope = (self.coord2[1]-self.coord1[1]) / (self.coord2[0] - self.coord1[0])\n",
    "        self.intersect = self.coord2[1] - self.slope * self.coord2[0]\n",
    "        \n",
    "        return((np.round(self.slope,2), np.round(self.intersect,2)))\n",
    "\n",
    "    def intersect_lines(self, line2):\n",
    "        \n",
    "        '''\n",
    "        return the coordinates of the intersection of two lines float*float : (x,y)\n",
    "        '''\n",
    "        \n",
    "        eqn2 = line2.eqn_line()\n",
    "        if self.eqn_line()[0] == eqn2[0]:\n",
    "            print('no intersect')\n",
    "        else:\n",
    "            self.x = np.round((eqn2[1] - self.eqn_line()[1]) / (self.eqn_line()[0] - eqn2[0]),2)\n",
    "            self.y = np.round(eqn2[0] * self.x + eqn2[1],2)\n",
    "            \n",
    "            return((self.x,self.y))"
   ]
  },
  {
   "cell_type": "markdown",
   "metadata": {},
   "source": [
    "### Simulation"
   ]
  },
  {
   "cell_type": "code",
   "execution_count": 4,
   "metadata": {},
   "outputs": [
    {
     "name": "stdout",
     "output_type": "stream",
     "text": [
      "rectangle(length=8, width=5, lower_coordinates=(1, 1), angle=0)\n",
      "rectangle(length=11, width=7, lower_coordinates=(-1, 2), angle=0)\n",
      "lower coordinates are: (1, 1)\n",
      "all coordinates of rectan are: [(1, 1), (1, 6), (9, 1), (9, 6)]\n",
      "all coordinates of rectan are: [(-1, 2), (-1, 9), (10, 2), (10, 9)]\n"
     ]
    }
   ],
   "source": [
    "rectan = rectangle(8,5,(1,1),0)\n",
    "print(rectan.__str__())\n",
    "rectan2= rectangle(11,7,(-1,2),0)\n",
    "print(rectan2.__str__())\n",
    "\n",
    "print(f'lower coordinates are: {rectan.lower_coordinates}')\n",
    "print(f'all coordinates of rectan are: {rectan.compute_coordinates()}')\n",
    "print(f'all coordinates of rectan are: {rectan2.compute_coordinates()}')"
   ]
  },
  {
   "cell_type": "code",
   "execution_count": 5,
   "metadata": {},
   "outputs": [
    {
     "name": "stdout",
     "output_type": "stream",
     "text": [
      "line(coord1=(1, 1), coord2=(9, 9))\n",
      "line(coord1=(1, 9), coord2=(9, 1))\n"
     ]
    }
   ],
   "source": [
    "line1 = line((1,1),(9,9))\n",
    "print(line1.__str__())\n",
    "line2 = line((1,9),(9,1))\n",
    "print(line2.__str__())"
   ]
  },
  {
   "cell_type": "code",
   "execution_count": 6,
   "metadata": {},
   "outputs": [
    {
     "data": {
      "text/plain": [
       "(1.0, 0.0)"
      ]
     },
     "execution_count": 6,
     "metadata": {},
     "output_type": "execute_result"
    }
   ],
   "source": [
    "line1.eqn_line()"
   ]
  },
  {
   "cell_type": "code",
   "execution_count": 7,
   "metadata": {
    "scrolled": true
   },
   "outputs": [
    {
     "data": {
      "text/plain": [
       "(-1.0, 10.0)"
      ]
     },
     "execution_count": 7,
     "metadata": {},
     "output_type": "execute_result"
    }
   ],
   "source": [
    "line2.eqn_line()"
   ]
  },
  {
   "cell_type": "code",
   "execution_count": 8,
   "metadata": {},
   "outputs": [
    {
     "data": {
      "text/plain": [
       "(5.0, 5.0)"
      ]
     },
     "execution_count": 8,
     "metadata": {},
     "output_type": "execute_result"
    }
   ],
   "source": [
    "line1.intersect_lines(line2)"
   ]
  },
  {
   "cell_type": "code",
   "execution_count": 9,
   "metadata": {},
   "outputs": [
    {
     "data": {
      "image/png": "[encoded data removed]",
      "text/plain": [
       "<Figure size 432x288 with 1 Axes>"
      ]
     },
     "metadata": {
      "needs_background": "light"
     },
     "output_type": "display_data"
    }
   ],
   "source": [
    "# draw rectangles\n",
    "rectan.draw_manually('blue')\n",
    "rectan2.draw_manually('orange')"
   ]
  },
  {
   "cell_type": "code",
   "execution_count": 10,
   "metadata": {},
   "outputs": [],
   "source": [
    "coord_rectan = rectan.compute_coordinates()\n",
    "coord_rectan2 = rectan2.compute_coordinates()"
   ]
  },
  {
   "cell_type": "code",
   "execution_count": 11,
   "metadata": {},
   "outputs": [
    {
     "name": "stdout",
     "output_type": "stream",
     "text": [
      "((1, 2), (9, 2))\n",
      "(0, 2)\n"
     ]
    }
   ],
   "source": [
    "print(rectan.intersect(rectan2))\n",
    "print(rectan.count_points_inside(rectan2))"
   ]
  },
  {
   "cell_type": "code",
   "execution_count": 12,
   "metadata": {},
   "outputs": [
    {
     "name": "stdout",
     "output_type": "stream",
     "text": [
      "((1, 2), (9, 2))\n",
      "(2, 0)\n"
     ]
    }
   ],
   "source": [
    "print(rectan2.intersect(rectan))\n",
    "print(rectan2.count_points_inside(rectan))"
   ]
  },
  {
   "cell_type": "markdown",
   "metadata": {},
   "source": [
    "#### test condition 2 intersect"
   ]
  },
  {
   "cell_type": "code",
   "execution_count": 13,
   "metadata": {},
   "outputs": [],
   "source": [
    "def test(rectan, rectan2):\n",
    "    rectan.draw_manually('blue')\n",
    "    rectan2.draw_manually('orange')\n",
    "    print(rectan.intersect(rectan2)==rectan2.intersect(rectan))\n",
    "    print(rectan.intersect(rectan2))"
   ]
  },
  {
   "cell_type": "code",
   "execution_count": 28,
   "metadata": {},
   "outputs": [
    {
     "name": "stdout",
     "output_type": "stream",
     "text": [
      "True\n",
      "((4, 0), (6, 0))\n",
      "True\n",
      "((4, 0), (6, 0))\n",
      "True\n",
      "((5, 15), (7, 15))\n",
      "True\n",
      "((5, 15), (7, 15))\n",
      "True\n",
      "((0, 5), (0, 9))\n",
      "True\n",
      "((0, 5), (0, 9))\n",
      "True\n",
      "((10, 5), (10, 9))\n",
      "True\n",
      "((10, 5), (10, 9))\n"
     ]
    },
    {
     "data": {
      "image/png": "[encoded data removed]",
      "text/plain": [
       "<Figure size 1080x720 with 8 Axes>"
      ]
     },
     "metadata": {
      "needs_background": "light"
     },
     "output_type": "display_data"
    }
   ],
   "source": [
    "plt.figure(figsize=(15,12))\n",
    "plt.subplot(4,2,1)\n",
    "test(rectangle(10,15,(0,0),0),rectangle(2,10,(4,-5),0))\n",
    "plt.subplot(4,2,2)\n",
    "test(rectangle(2,10,(4,-5),0),rectangle(10,15,(0,0),0))\n",
    "plt.subplot(4,2,3)\n",
    "test(rectangle(10,15,(0,0),0),rectangle(2,15,(5,5),0))\n",
    "plt.subplot(4,2,4)\n",
    "test(rectangle(2,15,(5,5),0),rectangle(10,15,(0,0),0))\n",
    "plt.subplot(4,2,5)\n",
    "test(rectangle(10,15,(0,0),0),rectangle(10,4,(-4,5),0))\n",
    "plt.subplot(4,2,6)\n",
    "test(rectangle(10,4,(-4,5),0),rectangle(10,15,(0,0),0))\n",
    "plt.subplot(4,2,7)\n",
    "test(rectangle(10,15,(0,0),0),rectangle(10,4,(4,5),0))\n",
    "plt.subplot(4,2,8)\n",
    "test(rectangle(10,4,(4,5),0),rectangle(10,15,(0,0),0))"
   ]
  },
  {
   "cell_type": "code",
   "execution_count": null,
   "metadata": {},
   "outputs": [],
   "source": []
  }
 ],
 "metadata": {
  "kernelspec": {
   "display_name": "Python 3",
   "language": "python",
   "name": "python3"
  },
  "language_info": {
   "codemirror_mode": {
    "name": "ipython",
    "version": 3
   },
   "file_extension": ".py",
   "mimetype": "text/x-python",
   "name": "python",
   "nbconvert_exporter": "python",
   "pygments_lexer": "ipython3",
   "version": "3.7.3"
  }
 },
 "nbformat": 4,
 "nbformat_minor": 2
}
